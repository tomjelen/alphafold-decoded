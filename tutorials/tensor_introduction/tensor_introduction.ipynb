{
 "cells": [
  {
   "cell_type": "markdown",
   "metadata": {},
   "source": [
    "## Basic Setup\n",
    "\n",
    "Run the cells below for the basic setup of this notebook."
   ]
  },
  {
   "cell_type": "code",
   "execution_count": 37,
   "metadata": {},
   "outputs": [
    {
     "name": "stdout",
     "output_type": "stream",
     "text": [
      "No colab environment, assuming local setup.\n"
     ]
    }
   ],
   "source": [
    "try:\n",
    "    from google.colab import drive # type: ignore\n",
    "    IN_COLAB = True\n",
    "except:\n",
    "    IN_COLAB = False\n",
    "    print('No colab environment, assuming local setup.')\n",
    "\n",
    "if IN_COLAB:\n",
    "    drive.mount('/content/drive')\n",
    "\n",
    "    # TODO: Enter the foldername in your Drive where you have saved the unzipped\n",
    "    # turorials folder, e.g. 'alphafold-decoded/tutorials'\n",
    "    FOLDERNAME = None\n",
    "    assert FOLDERNAME is not None, \"[!] Enter the foldername.\"\n",
    "\n",
    "    # Now that we've mounted your Drive, this ensures that\n",
    "    # the Python interpreter of the Colab VM can load\n",
    "    # python files from within it.\n",
    "    import sys\n",
    "    sys.path.append('/content/drive/My Drive/{}'.format(FOLDERNAME))\n",
    "    %cd /content/drive/My\\ Drive/$FOLDERNAME\n",
    "\n",
    "    print('Connected COLAB to Google Drive.')\n",
    "\n",
    "import os\n",
    "\n",
    "base_folder = '../tensor_introduction'\n",
    "control_folder = f'{base_folder}/control_values'\n",
    "\n",
    "assert os.path.isdir(control_folder), 'Folder \"control_values\" not found, make sure that FOLDERNAME is set correctly.' if IN_COLAB else 'Folder \"control_values\" not found, make sure that your root folder is set correctly'"
   ]
  },
  {
   "cell_type": "code",
   "execution_count": 38,
   "metadata": {},
   "outputs": [],
   "source": [
    "%matplotlib inline"
   ]
  },
  {
   "cell_type": "code",
   "execution_count": 39,
   "metadata": {},
   "outputs": [],
   "source": [
    "import torch\n",
    "import math\n",
    "import torchvision\n",
    "from torchvision import transforms\n",
    "from matplotlib import pyplot as plt"
   ]
  },
  {
   "cell_type": "code",
   "execution_count": 40,
   "metadata": {},
   "outputs": [
    {
     "data": {
      "text/plain": [
       "<torch.autograd.grad_mode.set_grad_enabled at 0x71769a9640e0>"
      ]
     },
     "execution_count": 40,
     "metadata": {},
     "output_type": "execute_result"
    }
   ],
   "source": [
    "torch.set_grad_enabled(False)"
   ]
  },
  {
   "cell_type": "markdown",
   "metadata": {},
   "source": [
    "# Tensor Introduction"
   ]
  },
  {
   "cell_type": "markdown",
   "metadata": {},
   "source": [
    "## Section 1: The Basics\n",
    "\n",
    "A tensor is a multi-dimensional array of numerical values. A scalar (a number) is a 0th-order tensor, a vector is a 1st-order tensor, and a matrix is a 2nd-order tensor. Tensors of higher order extend this concept into additional dimensions. A colored image for example, is usually represented by a three-dimensional tensor of shape (3, H, W), where H and W are the height and width of  the image in pixels. You can think of this as three matrices stacked behind each other.\n",
    "\n",
    "In this section, we want to cover the creation of tensors, basic pointwise operations and datatypes."
   ]
  },
  {
   "cell_type": "markdown",
   "metadata": {},
   "source": [
    "`torch.tensor()` is the most basic function to create tensors in pytorch. It takes a nested list as an argument and converts it to a tensor. The nested list must be in block shape already, a jagged list like [[5], [5,3]] can't be converted into a tensor."
   ]
  },
  {
   "cell_type": "code",
   "execution_count": 41,
   "metadata": {},
   "outputs": [],
   "source": [
    "A = None\n",
    "B = None\n",
    "C = None\n",
    "\n",
    "# Example:\n",
    "ex = torch.tensor([[1, 2, 3], [4, 6, 6]])\n",
    "ex_shape = ex.shape\n",
    "# ex:\n",
    "# tensor([[1, 2, 3],\n",
    "#         [4, 6, 6]])\n",
    "# ex_shape: (2, 3)\n",
    "\n",
    "\n",
    "##########################################################################\n",
    "# TODO: Use torch.tensor() to create tensors of shape (5,),              #\n",
    "#       (2,3) and (1, 2, 1).                                             #\n",
    "##########################################################################\n",
    "\n",
    "A = torch.tensor([1, 2, 3, 4, 5])\n",
    "B = torch.tensor([\n",
    "    [1,2,3],\n",
    "    [4,5,6],\n",
    "])\n",
    "C = torch.tensor([\n",
    "    [\n",
    "        [1], [2]\n",
    "    ],\n",
    "])\n",
    "\n",
    "##########################################################################\n",
    "#               END OF YOUR CODE                                         #\n",
    "##########################################################################\n",
    "\n",
    "# End of your code\n",
    "assert A.shape == (5,)\n",
    "assert B.shape == (2,3)\n",
    "assert C.shape == (1,2,1)"
   ]
  },
  {
   "cell_type": "markdown",
   "metadata": {},
   "source": [
    "There are two important methods that specifically create one-dimensional tensors: `torch.linspace` and `torch.arange`. `torch.linspace(start, end, steps)` creates evenly spaced values from `start` to `end`, including both `start` and `end`. `torch.arange` is usually used to create integers from 0 to N-1. \n"
   ]
  },
  {
   "cell_type": "code",
   "execution_count": 42,
   "metadata": {},
   "outputs": [],
   "source": [
    "A = None\n",
    "B = None\n",
    "\n",
    "# Example:\n",
    "# ex1 = torch.linspace(0, 1, steps=5)\n",
    "# ex1 is [0, 0.25, 0.5, 0.75, 1]\n",
    "# ex2 = torch.arange(3)\n",
    "# ex2 is [0, 1, 2]\n",
    "\n",
    "##########################################################################\n",
    "# TODO: Use the methods to create the following tensors:                 #\n",
    "#   A = [-0.4, -0.2, 0, 0.2] and B = [0, 1, 2, 3, 4, 5]                  #\n",
    "##########################################################################\n",
    "\n",
    "A = torch.linspace(-0.4, 0.2, steps=4)\n",
    "B = torch.arange(6)\n",
    "\n",
    "##########################################################################\n",
    "#               END OF YOUR CODE                                         #\n",
    "##########################################################################\n",
    "\n",
    "assert torch.allclose(A, torch.tensor([-0.4, -0.2, 0, 0.2]))\n",
    "assert torch.allclose(B, torch.tensor([0,1,2,3,4,5]))"
   ]
  },
  {
   "cell_type": "markdown",
   "metadata": {},
   "source": [
    "Other important methods that are often used to create tensors are `torch.zeros`, `torch.ones`, and `torch.randn` (standard normal distribution) or `torch.rand` (uniform distribution on $[0, 1)$)\n",
    "\n",
    "All of these methods take the shape of the tensor to be created as input. \n",
    "\n"
   ]
  },
  {
   "cell_type": "code",
   "execution_count": 43,
   "metadata": {},
   "outputs": [],
   "source": [
    "A = None\n",
    "B = None\n",
    "C = None\n",
    "\n",
    "# Example:\n",
    "# ex = torch.zeros((2, 2))\n",
    "# tensor([[0., 0.],\n",
    "#         [0., 0.]])\n",
    "\n",
    "##########################################################################\n",
    "# TODO: Use the methods to create:                                       #\n",
    "# 1. zeros of shape (5, 3, 2)                                            #\n",
    "# 2. fives of shape (100,) (use `torch.ones` and scale it)               #\n",
    "# 3. standard normal distribution of shape (10, 10, 10)                  #\n",
    "##########################################################################\n",
    "\n",
    "A = torch.zeros((5, 3, 2))\n",
    "B = torch.ones(100) * 5\n",
    "C = torch.rand((10,10,10))\n",
    "\n",
    "##########################################################################\n",
    "#               END OF YOUR CODE                                         #\n",
    "##########################################################################\n",
    "\n",
    "assert A.shape == (5,3,2) and torch.allclose(A, torch.tensor([0.0]))\n",
    "assert B.shape == (100,) and torch.allclose(B, torch.tensor([5.0]))\n",
    "assert C.shape == (10,10,10)"
   ]
  },
  {
   "cell_type": "markdown",
   "metadata": {},
   "source": [
    "You can use most basic operations like +, -, *, /, >, <, == on tensors of the same shape or, or on tensors and scalars."
   ]
  },
  {
   "cell_type": "code",
   "execution_count": 44,
   "metadata": {},
   "outputs": [],
   "source": [
    "A = None\n",
    "B = None\n",
    "C = None\n",
    "\n",
    "# Example:\n",
    "# ex = torch.tensor([-1, 2, -3])\n",
    "# ex_bool = ex < 0\n",
    "# Result: torch.tensor([True, False, True])\n",
    "\n",
    "##########################################################################\n",
    "# TODO:                                                                  #\n",
    "# 1. Try out + or *: Create a tensor A where each element is 384, by     #\n",
    "#     creating to tensors A1 and A2 first (choose their values)          #\n",
    "#     followed by A = A1 * A2, or A = A1 + A2. Choose any shape.         #\n",
    "# 2. Create a linspace with 6 values between -0.6 and 0.3 and            #\n",
    "#     compute which elements are smaller than -0.1.                      #\n",
    "# 3. sample normally distributed values of shape (100,100,100) with      #\n",
    "#     mean 0.5 and standard deviation 3.0 by scaling and adding          #\n",
    "#     to the standard normal distribution `torch.randn(size)`.           #\n",
    "##########################################################################\n",
    "\n",
    "A1 = torch.tensor([384-10])\n",
    "A2 = torch.tensor([10.0])\n",
    "A = A1 + A2\n",
    "\n",
    "B = torch.linspace(-0.6, 0.3, 6) < -0.1\n",
    "\n",
    "C = torch.randn((100,100,100)) * 3 + .5\n",
    "\n",
    "##########################################################################\n",
    "#               END OF YOUR CODE                                         #\n",
    "##########################################################################\n",
    "\n",
    "assert torch.allclose(A, torch.tensor([384.0]))\n",
    "assert torch.all(B == torch.tensor([True, True, True, False, False, False]))\n",
    "assert abs(C.std()-3.0)<0.05 and abs(C.mean() - 0.5) < 0.05"
   ]
  },
  {
   "cell_type": "markdown",
   "metadata": {},
   "source": [
    "Tensors can have different datatypes. The most important ones for our project are `long` (`torch.int64`), `float` (`torch.float32`) and `bool` (`torch.bool`). We'll sometimes use `double` (`torch.float64`) for checks on your implementation. It's for floating point numbers like `float`, but with higher precision and more memory consumption.\n",
    "\n",
    "You can cast a tensors with a syntax like `A.long()` or `A.to(torch.int64)`. \n",
    "\n",
    "When converting from float to long (or to int), the decimal part is simply dropped. When converting from bool to float, True is converted to 1.0 and False to 0.0. When going from float or long to bool, non-zero values are interpreted as True, while zero values are interpreted as False.\n"
   ]
  },
  {
   "cell_type": "code",
   "execution_count": 45,
   "metadata": {},
   "outputs": [],
   "source": [
    "A = None\n",
    "entry_count = None\n",
    "\n",
    "##########################################################################\n",
    "# TODO:                                                                  #\n",
    "# 1. Create linspace(-2, 3, 5) and cast it to long.                      #\n",
    "# 2. Sample uniform values of shape (100, 200, 50) and count how many    #\n",
    "#     elements are smaller than 0.2. You can use torch.sum() to sum      #\n",
    "#     all elements in a tensor.                                          #\n",
    "##########################################################################\n",
    "\n",
    "# Replace \"pass\" statement with your code\n",
    "A = torch.linspace(-2, 3, 5).long()\n",
    "entry_count = torch.sum(torch.rand((100, 200, 50)) < 0.2)\n",
    "\n",
    "##########################################################################\n",
    "#               END OF YOUR CODE                                         #\n",
    "##########################################################################\n",
    "\n",
    "assert torch.all(A == torch.tensor([-2, 0, 0, 1, 3]))\n",
    "assert abs(entry_count/(100*200*50) - 0.2) < 5e-3"
   ]
  },
  {
   "cell_type": "markdown",
   "metadata": {},
   "source": [
    "## Section 2: Tensor Manipulation"
   ]
  },
  {
   "cell_type": "markdown",
   "metadata": {},
   "source": [
    "### Understanding Shapes\n",
    "The shape of a tensor is a tuple consisting of the size of each dimension. Tensors can be reshaped without changing the underlying data using functions like `torch.reshape()`, `torch.view()`, and `torch.transpose()`. `torch.reshape` and `torch.view` take the new shape of the tensor as argument, while `torch.transpose` takes the indices of the two dimension that you want to swap.\n",
    "\n",
    "The difference between `view()`and `reshape()` is subtle. `view()` will always try to use the same underlying data and will throw an error if this is not possible, while `reshape()` will try to create a view, but will copy the data if it's not possible."
   ]
  },
  {
   "cell_type": "markdown",
   "metadata": {},
   "source": [
    "Use `torch.arange` and the new commands to create the desired outputs."
   ]
  },
  {
   "cell_type": "code",
   "execution_count": 46,
   "metadata": {},
   "outputs": [],
   "source": [
    "A = None\n",
    "B = None\n",
    "C = None\n",
    "correct_A = torch.tensor([\n",
    "    [0, 1, 2],\n",
    "    [3, 4, 5],\n",
    "    [6, 7, 8],\n",
    "    [9, 10, 11],\n",
    "])\n",
    "correct_B = torch.tensor([\n",
    "    [0, 1, 2, 3],\n",
    "    [4, 5, 6, 7],\n",
    "    [8, 9, 10, 11],\n",
    "])\n",
    "correct_C = torch.tensor([\n",
    "    [0, 4, 8],\n",
    "    [1,  5, 9],\n",
    "    [2, 6, 10],\n",
    "    [3, 7, 11],\n",
    "])\n",
    "\n",
    "##########################################################################\n",
    "# TODO: Use reshape/view and transpose to construct the tensors above    #\n",
    "#        from a linear torch.arange tensor.                              #\n",
    "##########################################################################\n",
    "\n",
    "# Replace \"pass\" statement with your code\n",
    "A = torch.arange(12).reshape((4,3))\n",
    "B = torch.arange(12).reshape((3,4))\n",
    "C = torch.arange(12).reshape((3,4)).T\n",
    "\n",
    "##########################################################################\n",
    "#               END OF YOUR CODE                                         #\n",
    "##########################################################################\n",
    "\n",
    "assert torch.all(A == correct_A)\n",
    "assert torch.all(B == correct_B)\n",
    "assert torch.all(C == correct_C)"
   ]
  },
  {
   "cell_type": "markdown",
   "metadata": {},
   "source": [
    "### Indexing and Slicing\n",
    "Tensors support Python-like indexing to access elements, as well as more advanced slicing techniques to select ranges and sub-tensors. "
   ]
  },
  {
   "cell_type": "markdown",
   "metadata": {},
   "source": [
    "Single Value Access: Use square brackets [] with an integer index to access a single element. The index starts from 0, where 0 refers to the first element.\n",
    "\n",
    "Slicing a Sub-tensor: Extract a contiguous sub-tensor using a colon : to separate the starting and ending indices (exclusive of the ending index).  Omitting the starting index defaults to the beginning, and omitting the ending index defaults to the end.\n",
    "\n",
    "Negative Indexing: Negative indices are supported, allowing you to index from the end of a dimension. For example, tensor[-1] refers to the last element in the tensor.\n",
    "\n",
    "Newaxis (Adding Dimensions): Use None or newaxis to insert a new dimension of size 1 at a specific position in the indexing expression. This is useful for broadcasting operations.\n",
    "\n",
    "Boolean Indexing:  You can use a boolean tensor (having the same shape as the tensor you want to index) as an index.  Elements where the boolean tensor has True are selected, and those corresponding to False are omitted in the result.\n",
    "\n"
   ]
  },
  {
   "cell_type": "markdown",
   "metadata": {},
   "source": [
    "Use these indexing techniques to get the following values from the provided array:\n",
    "* element at row with index 1, column with index 2 (use .item() to get the value instead of a 0-dimensional tensor)\n",
    "* all elements in the row with index 1\n",
    "* the last column (use negative indexing)\n",
    "* the same array, but with an additional dimension 1 introduced between the row and column dimension and without the third column.\n",
    "* a boolean mask representing all the values equal to 2\n",
    "* a copy of the array, where all 2-values are set to -1"
   ]
  },
  {
   "cell_type": "code",
   "execution_count": 47,
   "metadata": {},
   "outputs": [],
   "source": [
    "A = torch.tensor([\n",
    "        [3, 0, 1],\n",
    "        [1, 1, 2],\n",
    "        [2, 1, 0],\n",
    "        [1, 1, 1]])\n",
    "\n",
    "single_value = None\n",
    "row = None\n",
    "column = None\n",
    "unsqueezed = None\n",
    "mask = None\n",
    "no_2s = None\n",
    "\n",
    "##########################################################################\n",
    "# TODO: Use indexing to retrieve the elements described above.           #\n",
    "##########################################################################\n",
    "\n",
    "# Replace \"pass\" statement with your code\n",
    "single_value = A[1,2]\n",
    "row = A[1,]\n",
    "column = A[:,2]\n",
    "unsqueezed = A[:, None, 0:2]\n",
    "mask = A == 2\n",
    "\n",
    "no_2s = A.clone()\n",
    "no_2s[mask] = -1\n",
    "\n",
    "##########################################################################\n",
    "#               END OF YOUR CODE                                         #\n",
    "##########################################################################\n",
    "\n",
    "assert single_value == 2\n",
    "assert torch.all(row == torch.tensor([1,1,2]))\n",
    "assert torch.all(column == torch.tensor([1,2,0,1]))\n",
    "assert torch.all(unsqueezed == torch.tensor([[[3, 0]],[[1, 1]],[[2, 1]],[[1, 1]]]))\n",
    "assert torch.all(mask == torch.tensor([[False, False, False],[False, False,  True],[ True, False, False],[False, False, False]]))\n",
    "assert torch.all(no_2s == torch.tensor([[ 3,  0,  1],[ 1,  1, -1],[-1,  1,  0],[ 1,  1,  1]]))\n"
   ]
  },
  {
   "cell_type": "markdown",
   "metadata": {},
   "source": [
    "### Broadcasting  \n",
    "Broadcasting  allows element-wise operations between tensors with compatible shapes.  Rules govern how tensor dimensions are expanded to facilitate these operations.\n",
    "\n",
    "The rules are the following: \n",
    "* dimensions are aligned starting with the right-most dimension\n",
    "* all dimensions must each agree or be 1 for one of the tensors\n",
    "* if the number of dimensions is smaller for one of the tensors, 1-dimensions are prepended until the dimensions match\n",
    "\n",
    "When one of the dimensions is 1 while the other is not, the tensor is copied along this dimension to match the shape of the other tensor. "
   ]
  },
  {
   "cell_type": "code",
   "execution_count": 48,
   "metadata": {},
   "outputs": [],
   "source": [
    "A = torch.arange(12).reshape(4,3)\n",
    "added_row = None\n",
    "added_column = None\n",
    "\n",
    "##########################################################################\n",
    "# TODO: Use broadcasting to:                                             #\n",
    "# 1. Compute a matrix, where the first row of A is added to all rows     #\n",
    "#     of A (including the first).                                        #\n",
    "# 2. Compute a matrix, where the first column of A is added to all       #\n",
    "#     other columns of A (excluding the first).                          #\n",
    "#                                                                        #\n",
    "# You might need to introduce new 1-dimensions to fullfill the           #\n",
    "#  requirements for broadcasting.                                        #\n",
    "##########################################################################\n",
    "\n",
    "# Replace \"pass\" statement with your code\n",
    "added_row = A[0,:] + A\n",
    "\n",
    "first_col = A[:,0].reshape(4,1)\n",
    "added_column = A.clone()\n",
    "added_column[:,1:] += first_col\n",
    "\n",
    "##########################################################################\n",
    "#               END OF YOUR CODE                                         #\n",
    "##########################################################################\n",
    "\n",
    "assert torch.all(added_row==torch.tensor([[ 0,  2,  4],[ 3,  5,  7],[ 6,  8, 10],[ 9, 11, 13]]))\n",
    "assert torch.all(added_column == torch.tensor([[ 0,  1,  2],[ 3,  7,  8],[6, 13, 14],[9, 19, 20]])\n",
    ")"
   ]
  },
  {
   "cell_type": "markdown",
   "metadata": {},
   "source": [
    "Broadcasting often plays a special role when performing 'each-with-each' operations, like the outer sum of two vectors. Use broadcasting two compute the outer sum, i.e. a matrix where the entry [i, j] is the sum of v[i] and w[j] by first introducing new 1-dimensions at the correct positions."
   ]
  },
  {
   "cell_type": "code",
   "execution_count": 49,
   "metadata": {},
   "outputs": [],
   "source": [
    "v = torch.arange(3)\n",
    "w = torch.arange(4)\n",
    "outer_sum = None\n",
    "\n",
    "##########################################################################\n",
    "# TODO: Compute the outer sum of v and w.                                #\n",
    "##########################################################################\n",
    "\n",
    "# Replace \"pass\" statement with your code\n",
    "outer_sum = v[:,None] + w[None,:]\n",
    "\n",
    "##########################################################################\n",
    "#               END OF YOUR CODE                                         #\n",
    "##########################################################################\n",
    "assert torch.all(outer_sum==torch.tensor([[0, 1, 2, 3],[1, 2, 3, 4],[2, 3, 4, 5]]))"
   ]
  },
  {
   "cell_type": "markdown",
   "metadata": {},
   "source": [
    "Some operations in pytorch don't allow implicit broadcasting, and we need to broadcast the values explicitly with `torch.broadcast_to()`"
   ]
  },
  {
   "cell_type": "code",
   "execution_count": 50,
   "metadata": {},
   "outputs": [
    {
     "name": "stderr",
     "output_type": "stream",
     "text": [
      "/tmp/ipykernel_4075/3091716895.py:4: FutureWarning: You are using `torch.load` with `weights_only=False` (the current default value), which uses the default pickle module implicitly. It is possible to construct malicious pickle data which will execute arbitrary code during unpickling (See https://github.com/pytorch/pytorch/blob/main/SECURITY.md#untrusted-models for more details). In a future release, the default value for `weights_only` will be flipped to `True`. This limits the functions that could be executed during unpickling. Arbitrary objects will no longer be allowed to be loaded via this mode unless they are explicitly allowlisted by the user via `torch.serialization.add_safe_globals`. We recommend you start setting `weights_only=True` for any use case where you don't have full control of the loaded file. Please open an issue on GitHub for any issues related to this experimental feature.\n",
      "  expected_result = torch.load(f'{control_folder}/broadcast_explicit.pt')\n"
     ]
    }
   ],
   "source": [
    "matrix_a = torch.arange(6)\n",
    "matrix_b = torch.arange(6*4*3).reshape(4, 6, 3)\n",
    "\n",
    "expected_result = torch.load(f'{control_folder}/broadcast_explicit.pt')\n",
    "broadcasted_a = None\n",
    "##########################################################################\n",
    "# TODO: Use torch.broadcast_to to broadcast matrix_a to the              #\n",
    "#   shape of matrix_b.                                                   #\n",
    "#                                                                        #\n",
    "# You might need to introduce new 1-dimensions to fullfill the           #\n",
    "#  requirements for broadcasting.                                        #\n",
    "##########################################################################\n",
    "\n",
    "# Replace \"pass\" statement with your code\n",
    "broadcasted_a = torch.broadcast_to(matrix_a[:,None], matrix_b.shape)\n",
    "\n",
    "##########################################################################\n",
    "#               END OF YOUR CODE                                         #\n",
    "##########################################################################\n",
    "\n",
    "assert torch.allclose(broadcasted_a, expected_result)"
   ]
  },
  {
   "cell_type": "markdown",
   "metadata": {},
   "source": [
    "### Flattening and Unflattening\n",
    "\n",
    "- Flattening refers to the process of reducing the number of dimensions in a tensor. This involves combining multiple dimensions into a single dimension. PyTorch provides functions such as torch.flatten(), torch.ravel(), or tensor.view(-1) for this operation. \n",
    "\n",
    "- Unflattening is the reverse process of restoring a higher-dimensional shape from a tensor with a reduced number of dimensions. This typically involves using  torch.reshape() or tensor.view().\n",
    "\n",
    "- The Importance of Dimension Order: The order in which dimensions are arranged matters significantly during both flattening and unflattening. Flattening follows a specific convention (by default row-wise in pytorch), and it's crucial to know this order when unflattening to reconstruct the original shape correctly.\n"
   ]
  },
  {
   "cell_type": "code",
   "execution_count": 51,
   "metadata": {},
   "outputs": [
    {
     "name": "stdout",
     "output_type": "stream",
     "text": [
      "Original matrix:\n",
      "tensor([[ 0,  1,  2,  3],\n",
      "        [ 4,  5,  6,  7],\n",
      "        [ 8,  9, 10, 11]])\n",
      "Incorrectly unflattened: \n",
      "tensor([[ 0,  4,  8,  1],\n",
      "        [ 5,  9,  2,  6],\n",
      "        [10,  3,  7, 11]])\n"
     ]
    }
   ],
   "source": [
    "matrix = torch.arange(12).reshape(3, 4)\n",
    "flattened_row_wise = None\n",
    "flattened_column_wise = None\n",
    "incorrect_unflatten = None\n",
    "\n",
    "##########################################################################\n",
    "# TODO: Use flatten, reshape and transpose to                            #\n",
    "# 1. flatten the matrix row-wise.                                        #\n",
    "# 2. flatten the matrix column-wise.                                     #\n",
    "# 3. unflatten the column-wise flattened matrix, as if                   #\n",
    "#     it was flattened row-wise.                                         #\n",
    "##########################################################################\n",
    "\n",
    "# Replace \"pass\" statement with your code\n",
    "flattened_row_wise = matrix.flatten()\n",
    "flattened_column_wise = matrix.T.flatten()\n",
    "incorrect_unflatten = flattened_column_wise.unflatten(dim=0, sizes=matrix.shape)\n",
    "\n",
    "##########################################################################\n",
    "#               END OF YOUR CODE                                         #\n",
    "##########################################################################\n",
    "\n",
    "assert torch.all(flattened_row_wise == torch.arange(12))\n",
    "assert torch.all(flattened_column_wise == torch.tensor([0,4,8,1,5,9,2,6,10,3,7,11]))\n",
    "assert torch.all(incorrect_unflatten==torch.tensor([[0, 4, 8, 1],[5, 9, 2, 6],[ 10, 3, 7, 11]]))\n",
    "\n",
    "print('Original matrix:')\n",
    "print(matrix)\n",
    "print('Incorrectly unflattened: ')\n",
    "print(incorrect_unflatten)\n"
   ]
  },
  {
   "cell_type": "markdown",
   "metadata": {},
   "source": [
    "## Section 3: Tensor Reductions\n",
    "\n",
    "PyTorch offers a variety of functions that perform reduction operations on tensors. These operations collapse a tensor along specified dimensions, often resulting in a lower-dimensional tensor or a single scalar value. Examples include calculating the sum, mean, standard deviation (std), or finding the norm of a tensor."
   ]
  },
  {
   "cell_type": "code",
   "execution_count": 52,
   "metadata": {},
   "outputs": [],
   "source": [
    "tensor = torch.arange(12).reshape(3, 4)\n",
    "sum_all = None\n",
    "mean_columns = None\n",
    "std_all = None\n",
    "l2_rows = None\n",
    "\n",
    "##########################################################################\n",
    "# TODO: Use the following reduction operations on the provided tensor.   #\n",
    "# 1. Calculate the sum of all elements (use torch.sum()).                #\n",
    "# 2. Calculate the mean of each column (use torch.mean()).               #\n",
    "# 3. Calculate the standard deviation of all elements (use torch.std()). #\n",
    "# 4. Calculate the L2 norm of each row (use torch.linalg.vector_norm()). #\n",
    "# 5. Try keeping the original dimensions using the `keepdim` argument    #\n",
    "#     in the reduction calls. How do the resulting tensors differ?       #\n",
    "#                                                                        #\n",
    "# You might need to cast the data type for some of the operations and    #\n",
    "#  use .item() to get numbers instead of 0-dimensional tensors.          #\n",
    "##########################################################################\n",
    "\n",
    "# Replace \"pass\" statement with your code\n",
    "sum_all = tensor.sum()\n",
    "mean_columns = tensor.float().mean(dim=0)\n",
    "std_all = tensor.float().std()\n",
    "l2_rows = torch.linalg.vector_norm(tensor.float(), dim=1, ord=2)\n",
    "\n",
    "\n",
    "##########################################################################\n",
    "#               END OF YOUR CODE                                         #\n",
    "##########################################################################\n",
    "\n",
    "assert abs(sum_all-66)<1e-3\n",
    "assert torch.allclose(mean_columns, torch.tensor([4.0,5.0,6.0,7.0]))\n",
    "assert abs(std_all-3.60555) < 1e-3\n",
    "assert torch.allclose(l2_rows, torch.tensor([ 3.7417, 11.2250, 19.1311]), rtol=1e-2)\n"
   ]
  },
  {
   "cell_type": "markdown",
   "metadata": {},
   "source": [
    "## Section 4: The Power of torch.einsum\n",
    "\n",
    "Einstein Summation (einsum) is a concise and powerful notation for specifying complex tensor operations. It offers a flexible way to perform operations like matrix multiplication, dot products, batch calculations, outer products, reductions, and much more. \n",
    "\n",
    "Most calculations in our AlphaFold implementation that are not reshaping or transposing axis will be done with torch.einsum.\n",
    "\n",
    "The Core Idea: torch.einsum() takes an equation string and input tensors as arguments. The equation string dictates how to manipulate and combine the dimensions of the input tensors to produce the desired output tensor. \n",
    "\n",
    "Simply designing the equation so the output dimensions match up is often a good indicator that your expression is on the right track.\n"
   ]
  },
  {
   "cell_type": "code",
   "execution_count": 53,
   "metadata": {},
   "outputs": [
    {
     "name": "stdout",
     "output_type": "stream",
     "text": [
      "tensor([[0, 1, 2],\n",
      "        [3, 4, 5]])\n",
      "tensor([[ 0,  1,  2,  3,  4],\n",
      "        [ 5,  6,  7,  8,  9],\n",
      "        [10, 11, 12, 13, 14]])\n",
      "tensor([[ 25,  28,  31,  34,  37],\n",
      "        [ 70,  82,  94, 106, 118]])\n",
      "tensor([[ 0,  1,  4],\n",
      "        [ 0,  4, 10]])\n"
     ]
    }
   ],
   "source": [
    "# Example 1: Matrix Multiplication\n",
    "matrix_a = torch.arange(6).reshape(2, 3)\n",
    "matrix_b = torch.arange(15).reshape(3, 5)\n",
    "result = torch.einsum('ik,kj->ij', matrix_a, matrix_b)\n",
    "print(matrix_a)\n",
    "print(matrix_b)\n",
    "print(result)\n",
    "\n",
    "# Example 2: Element-wise operations\n",
    "a = torch.arange(6).reshape(2, 3)\n",
    "b = torch.arange(3)\n",
    "result = torch.einsum('ij,j->ij', a, b)  # Broadcast and multiply\n",
    "print(result)"
   ]
  },
  {
   "cell_type": "markdown",
   "metadata": {},
   "source": [
    "Ellipsis (...) in einsum: The ellipsis (...) is a powerful wildcard notation in torch.einsum  representing one or more unspecified dimensions. It allows you to write einsum expressions that work for tensors with an arbitrary number of prepended batch dimensions.\n",
    "\n",
    "How it simplifies einsum: Without ellipsis, you'd need to explicitly specify every batch dimension in the equation string, which can become cumbersome for tensors with complex shapes. Ellipsis helps write concise and general expressions."
   ]
  },
  {
   "cell_type": "code",
   "execution_count": 54,
   "metadata": {},
   "outputs": [
    {
     "name": "stderr",
     "output_type": "stream",
     "text": [
      "/tmp/ipykernel_4075/3404010197.py:4: FutureWarning: You are using `torch.load` with `weights_only=False` (the current default value), which uses the default pickle module implicitly. It is possible to construct malicious pickle data which will execute arbitrary code during unpickling (See https://github.com/pytorch/pytorch/blob/main/SECURITY.md#untrusted-models for more details). In a future release, the default value for `weights_only` will be flipped to `True`. This limits the functions that could be executed during unpickling. Arbitrary objects will no longer be allowed to be loaded via this mode unless they are explicitly allowlisted by the user via `torch.serialization.add_safe_globals`. We recommend you start setting `weights_only=True` for any use case where you don't have full control of the loaded file. Please open an issue on GitHub for any issues related to this experimental feature.\n",
      "  matrix_a = torch.load(f'{control_folder}/einsum_bmm_a.pt')\n",
      "/tmp/ipykernel_4075/3404010197.py:5: FutureWarning: You are using `torch.load` with `weights_only=False` (the current default value), which uses the default pickle module implicitly. It is possible to construct malicious pickle data which will execute arbitrary code during unpickling (See https://github.com/pytorch/pytorch/blob/main/SECURITY.md#untrusted-models for more details). In a future release, the default value for `weights_only` will be flipped to `True`. This limits the functions that could be executed during unpickling. Arbitrary objects will no longer be allowed to be loaded via this mode unless they are explicitly allowlisted by the user via `torch.serialization.add_safe_globals`. We recommend you start setting `weights_only=True` for any use case where you don't have full control of the loaded file. Please open an issue on GitHub for any issues related to this experimental feature.\n",
      "  matrix_b = torch.load(f'{control_folder}/einsum_bmm_b.pt')\n",
      "/tmp/ipykernel_4075/3404010197.py:22: FutureWarning: You are using `torch.load` with `weights_only=False` (the current default value), which uses the default pickle module implicitly. It is possible to construct malicious pickle data which will execute arbitrary code during unpickling (See https://github.com/pytorch/pytorch/blob/main/SECURITY.md#untrusted-models for more details). In a future release, the default value for `weights_only` will be flipped to `True`. This limits the functions that could be executed during unpickling. Arbitrary objects will no longer be allowed to be loaded via this mode unless they are explicitly allowlisted by the user via `torch.serialization.add_safe_globals`. We recommend you start setting `weights_only=True` for any use case where you don't have full control of the loaded file. Please open an issue on GitHub for any issues related to this experimental feature.\n",
      "  expected_result = torch.load(f'{control_folder}/einsum_bmm_result.pt')\n"
     ]
    }
   ],
   "source": [
    "# Batched Matrix Multiplication\n",
    "# matrix_a has shape (5, 3, 2, 3)\n",
    "# matrix_b has shape (5, 3, 3, 5)\n",
    "matrix_a = torch.load(f'{control_folder}/einsum_bmm_a.pt')\n",
    "matrix_b = torch.load(f'{control_folder}/einsum_bmm_b.pt')\n",
    "result = None\n",
    "\n",
    "##########################################################################\n",
    "# TODO: Perform batched matrix multiplication using torch.einsum().      #\n",
    "#  The result should be of shape (5, 3, 2, 5).                           #\n",
    "#  Try do to it both with and without the ellipsis operator.             #\n",
    "##########################################################################\n",
    "\n",
    "# Replace \"pass\" statement with your code\n",
    "result = torch.einsum(\"ikab,ikbc->ikac\", matrix_a, matrix_b)\n",
    "result = torch.einsum(\"...ab,...bc->...ac\", matrix_a, matrix_b)\n",
    "\n",
    "##########################################################################\n",
    "#               END OF YOUR CODE                                         #\n",
    "##########################################################################\n",
    "\n",
    "expected_result = torch.load(f'{control_folder}/einsum_bmm_result.pt')\n",
    "assert torch.allclose(result, expected_result)"
   ]
  },
  {
   "cell_type": "code",
   "execution_count": 55,
   "metadata": {},
   "outputs": [],
   "source": [
    "# Reduction: (Sum over a dimension)\n",
    "tensor = torch.arange(24).reshape(2, 3, 4)\n",
    "expected_result = torch.sum(tensor, dim=1)\n",
    "result = None\n",
    "\n",
    "##########################################################################\n",
    "# TODO: Compute the equivalent of torch.sum with torch.einsum.           #\n",
    "##########################################################################\n",
    "\n",
    "# Replace \"pass\" statement with your code\n",
    "result = torch.einsum(\"ikj->ij\", tensor)\n",
    "\n",
    "##########################################################################\n",
    "#               END OF YOUR CODE                                         #\n",
    "##########################################################################\n",
    "\n",
    "assert torch.allclose(expected_result, result)"
   ]
  },
  {
   "cell_type": "markdown",
   "metadata": {},
   "source": [
    "We'll move on to compute a little more complicated einsum expressions, starting with `scaled_dot_product_attention`, one of the core primitives for AlphaFold. \n",
    "\n",
    "We'll go into more detail on this when we implement MultiHeadAttention later in this series. For now, this is the computation we'll perform:\n",
    "\n",
    "Inputs:\n",
    "- q query vectors of dimension c (represented as a matrix Q of shape (q, c))\n",
    "- k key vectors of dimension c (represented as a matrix K of shape (k, c))\n",
    "- k value vectors of dimension d (represented as matrix V of shape (k, d))"
   ]
  },
  {
   "cell_type": "code",
   "execution_count": 56,
   "metadata": {},
   "outputs": [
    {
     "name": "stdout",
     "output_type": "stream",
     "text": [
      "torch.Size([10, 32]) torch.Size([16, 32]) torch.Size([16, 8])\n"
     ]
    },
    {
     "name": "stderr",
     "output_type": "stream",
     "text": [
      "/tmp/ipykernel_4075/1254564384.py:1: FutureWarning: You are using `torch.load` with `weights_only=False` (the current default value), which uses the default pickle module implicitly. It is possible to construct malicious pickle data which will execute arbitrary code during unpickling (See https://github.com/pytorch/pytorch/blob/main/SECURITY.md#untrusted-models for more details). In a future release, the default value for `weights_only` will be flipped to `True`. This limits the functions that could be executed during unpickling. Arbitrary objects will no longer be allowed to be loaded via this mode unless they are explicitly allowlisted by the user via `torch.serialization.add_safe_globals`. We recommend you start setting `weights_only=True` for any use case where you don't have full control of the loaded file. Please open an issue on GitHub for any issues related to this experimental feature.\n",
      "  Q = torch.load(f'{control_folder}/att_Q.pt')\n",
      "/tmp/ipykernel_4075/1254564384.py:2: FutureWarning: You are using `torch.load` with `weights_only=False` (the current default value), which uses the default pickle module implicitly. It is possible to construct malicious pickle data which will execute arbitrary code during unpickling (See https://github.com/pytorch/pytorch/blob/main/SECURITY.md#untrusted-models for more details). In a future release, the default value for `weights_only` will be flipped to `True`. This limits the functions that could be executed during unpickling. Arbitrary objects will no longer be allowed to be loaded via this mode unless they are explicitly allowlisted by the user via `torch.serialization.add_safe_globals`. We recommend you start setting `weights_only=True` for any use case where you don't have full control of the loaded file. Please open an issue on GitHub for any issues related to this experimental feature.\n",
      "  K = torch.load(f'{control_folder}/att_K.pt')\n",
      "/tmp/ipykernel_4075/1254564384.py:3: FutureWarning: You are using `torch.load` with `weights_only=False` (the current default value), which uses the default pickle module implicitly. It is possible to construct malicious pickle data which will execute arbitrary code during unpickling (See https://github.com/pytorch/pytorch/blob/main/SECURITY.md#untrusted-models for more details). In a future release, the default value for `weights_only` will be flipped to `True`. This limits the functions that could be executed during unpickling. Arbitrary objects will no longer be allowed to be loaded via this mode unless they are explicitly allowlisted by the user via `torch.serialization.add_safe_globals`. We recommend you start setting `weights_only=True` for any use case where you don't have full control of the loaded file. Please open an issue on GitHub for any issues related to this experimental feature.\n",
      "  V = torch.load(f'{control_folder}/att_V.pt')\n"
     ]
    }
   ],
   "source": [
    "Q = torch.load(f'{control_folder}/att_Q.pt')\n",
    "K = torch.load(f'{control_folder}/att_K.pt')\n",
    "V = torch.load(f'{control_folder}/att_V.pt')\n",
    "print(Q.shape, K.shape, V.shape)"
   ]
  },
  {
   "cell_type": "markdown",
   "metadata": {},
   "source": [
    "First, we will compute the agreement of Q and K. This is done by computing the dot product of each query vector with each key vector. The result is divided by the square root of c, so that the expected values are independent of c."
   ]
  },
  {
   "cell_type": "code",
   "execution_count": 57,
   "metadata": {},
   "outputs": [
    {
     "name": "stderr",
     "output_type": "stream",
     "text": [
      "/tmp/ipykernel_4075/3131769618.py:2: FutureWarning: You are using `torch.load` with `weights_only=False` (the current default value), which uses the default pickle module implicitly. It is possible to construct malicious pickle data which will execute arbitrary code during unpickling (See https://github.com/pytorch/pytorch/blob/main/SECURITY.md#untrusted-models for more details). In a future release, the default value for `weights_only` will be flipped to `True`. This limits the functions that could be executed during unpickling. Arbitrary objects will no longer be allowed to be loaded via this mode unless they are explicitly allowlisted by the user via `torch.serialization.add_safe_globals`. We recommend you start setting `weights_only=True` for any use case where you don't have full control of the loaded file. Please open an issue on GitHub for any issues related to this experimental feature.\n",
      "  expected_result = torch.load(f'{control_folder}/att_raw_attn.pt')\n"
     ]
    }
   ],
   "source": [
    "raw_attn = None\n",
    "expected_result = torch.load(f'{control_folder}/att_raw_attn.pt')\n",
    "\n",
    "##########################################################################\n",
    "# TODO: Implement the scaled dot product.                                #\n",
    "#   The result should be of shape (q, k).                                #\n",
    "##########################################################################\n",
    "\n",
    "# Replace \"pass\" statement with your code\n",
    "raw_attn = torch.einsum(\"ik,jk->ij\", Q, K) / torch.sqrt(torch.tensor(Q.shape[1]))\n",
    "\n",
    "##########################################################################\n",
    "#               END OF YOUR CODE                                         #\n",
    "##########################################################################\n",
    "assert torch.allclose(raw_attn, expected_result)"
   ]
  },
  {
   "cell_type": "markdown",
   "metadata": {},
   "source": [
    "These raw attention scores are mapped through the softmax function along the key dimension, so that for every query, the values of all keys sum to 1.\n",
    "\n",
    "The softmax function looks like this:\n",
    "\n",
    "$softmax(x)_i =  \\frac{\\exp(x_i)}{\\sum_{j=1}^{K} \\exp(x_j)}$\n",
    "\n",
    "It's main properties are the following:\n",
    "- Individual entries sum to 1, so the result can be interpreted as a probability distribution\n",
    "- If one value was significantly larger (let's say bigger by 6) than the others, softmax will be close to 1 for this value and close to 0 for the others, somewhat like the max  function\n",
    "- Unlike a hard max function, if the biggest values are close to each other, they will have similar scores"
   ]
  },
  {
   "cell_type": "code",
   "execution_count": 58,
   "metadata": {},
   "outputs": [
    {
     "name": "stderr",
     "output_type": "stream",
     "text": [
      "/tmp/ipykernel_4075/2640606797.py:2: FutureWarning: You are using `torch.load` with `weights_only=False` (the current default value), which uses the default pickle module implicitly. It is possible to construct malicious pickle data which will execute arbitrary code during unpickling (See https://github.com/pytorch/pytorch/blob/main/SECURITY.md#untrusted-models for more details). In a future release, the default value for `weights_only` will be flipped to `True`. This limits the functions that could be executed during unpickling. Arbitrary objects will no longer be allowed to be loaded via this mode unless they are explicitly allowlisted by the user via `torch.serialization.add_safe_globals`. We recommend you start setting `weights_only=True` for any use case where you don't have full control of the loaded file. Please open an issue on GitHub for any issues related to this experimental feature.\n",
      "  expected_result = torch.load(f'{control_folder}/att_normalized_attn.pt')\n"
     ]
    }
   ],
   "source": [
    "attn = None\n",
    "expected_result = torch.load(f'{control_folder}/att_normalized_attn.pt')\n",
    "##########################################################################\n",
    "# TODO: Use torch.softmax to convert the scores for all queries          #\n",
    "#   to a probability distribution.                                       #\n",
    "##########################################################################\n",
    "\n",
    "# Replace \"pass\" statement with your code\n",
    "attn = torch.softmax(raw_attn, dim=1)\n",
    "\n",
    "##########################################################################\n",
    "#               END OF YOUR CODE                                         #\n",
    "##########################################################################\n",
    "\n",
    "assert torch.allclose(attn, expected_result)\n"
   ]
  },
  {
   "cell_type": "markdown",
   "metadata": {},
   "source": [
    "Last, for each query vector, we'll scale the value vectors by the corresponding attention weights and sum these value vectors."
   ]
  },
  {
   "cell_type": "code",
   "execution_count": 59,
   "metadata": {},
   "outputs": [
    {
     "name": "stderr",
     "output_type": "stream",
     "text": [
      "/tmp/ipykernel_4075/2624295398.py:2: FutureWarning: You are using `torch.load` with `weights_only=False` (the current default value), which uses the default pickle module implicitly. It is possible to construct malicious pickle data which will execute arbitrary code during unpickling (See https://github.com/pytorch/pytorch/blob/main/SECURITY.md#untrusted-models for more details). In a future release, the default value for `weights_only` will be flipped to `True`. This limits the functions that could be executed during unpickling. Arbitrary objects will no longer be allowed to be loaded via this mode unless they are explicitly allowlisted by the user via `torch.serialization.add_safe_globals`. We recommend you start setting `weights_only=True` for any use case where you don't have full control of the loaded file. Please open an issue on GitHub for any issues related to this experimental feature.\n",
      "  expected_result = torch.load(f'{control_folder}/att_result.pt')\n"
     ]
    }
   ],
   "source": [
    "result = None\n",
    "expected_result = torch.load(f'{control_folder}/att_result.pt')\n",
    "\n",
    "##########################################################################\n",
    "# TODO: Use torch.einsum to scale the value vectors by the               #\n",
    "#  corresponding weights and add them up.                                #\n",
    "#  The result should be of shape (q, d).                                 #\n",
    "##########################################################################\n",
    "\n",
    "# Replace \"pass\" statement with your code\n",
    "result = torch.einsum(\"ij,jk->ik\", attn, V)\n",
    "\n",
    "##########################################################################\n",
    "#               END OF YOUR CODE                                         #\n",
    "##########################################################################\n",
    "assert torch.allclose(result, expected_result)"
   ]
  },
  {
   "cell_type": "markdown",
   "metadata": {},
   "source": [
    "## Section 5: A Practical Example with MNIST\n",
    "\n",
    "In this section, we'll put your newfound tensor skills to practice with a simple image classification task. We'll use PyTorch to load the classic MNIST dataset of handwritten digits, compute average images for each digit, and build a rudimentary classifier based on these averages. While this classifier is basic, it demonstrates how core tensor operations can be used in a real-world machine learning scenario."
   ]
  },
  {
   "cell_type": "markdown",
   "metadata": {},
   "source": [
    "This code cell loads in the dataset. Its content isn't too important to us right now, so feel free to skip over it."
   ]
  },
  {
   "cell_type": "code",
   "execution_count": 60,
   "metadata": {},
   "outputs": [],
   "source": [
    "\n",
    "# --- Load and Prepare MNIST Dataset ---\n",
    "transform = transforms.Compose([transforms.ToTensor(), transforms.Normalize((0.1307,), (0.3081,))])\n",
    "\n",
    "# Download and split into training and validation sets\n",
    "train_set = torchvision.datasets.MNIST(\n",
    "    root='./data', train=True, download=True, transform=transform)\n",
    "validation_set = torchvision.datasets.MNIST(\n",
    "    root='./data', train=False, download=True, transform=transform)\n",
    "\n",
    "# Load all training and validation images and labels\n",
    "train_loader = torch.utils.data.DataLoader(train_set, batch_size=len(train_set))\n",
    "validation_loader = torch.utils.data.DataLoader(validation_set, batch_size=len(validation_set))\n",
    "\n",
    "train_images, train_labels = next(iter(train_loader))\n",
    "validation_images, validation_labels = next(iter(validation_loader))\n",
    "\n",
    "train_images = train_images.double()\n",
    "validation_images = validation_images.double()"
   ]
  },
  {
   "cell_type": "markdown",
   "metadata": {},
   "source": [
    "With the above code, we loaded in the images and labels as two big tensors, split into training and validation sets.\n",
    "The pixel values are normalized so that they follow a normal distribution with mean 0 and std 1."
   ]
  },
  {
   "cell_type": "code",
   "execution_count": 61,
   "metadata": {},
   "outputs": [
    {
     "name": "stdout",
     "output_type": "stream",
     "text": [
      "Validation and training images shape:\n",
      "torch.Size([10000, 1, 28, 28])\n",
      "torch.Size([60000, 1, 28, 28])\n",
      "\n",
      "Mean: -0.0001282926419238658\n",
      "Std: 1.0000254196939797\n",
      "\n",
      "Train labels shape:\n",
      "torch.Size([60000])\n",
      "Train label values:\n",
      "tensor([0, 1, 2, 3, 4, 5, 6, 7, 8, 9])\n"
     ]
    }
   ],
   "source": [
    "print('Validation and training images shape:')\n",
    "print(validation_images.shape)\n",
    "print(train_images.shape)\n",
    "print('')\n",
    "\n",
    "print(f'Mean: {train_images.mean()}')\n",
    "print(f'Std: {train_images.std()}')\n",
    "print('')\n",
    "\n",
    "print('Train labels shape:')\n",
    "print(train_labels.shape)\n",
    "print('Train label values:')\n",
    "print(torch.unique(train_labels))"
   ]
  },
  {
   "cell_type": "markdown",
   "metadata": {},
   "source": [
    "You can see that the images are of shape (N, 1, H, W). The one represents the channel. If this were an RGB image, the dimension would be three. However, we don't need this dimension in our case, so we will squeeze the tensors to get rid of it."
   ]
  },
  {
   "cell_type": "code",
   "execution_count": 62,
   "metadata": {},
   "outputs": [
    {
     "name": "stdout",
     "output_type": "stream",
     "text": [
      "torch.Size([60000, 28, 28])\n",
      "torch.Size([10000, 28, 28])\n"
     ]
    }
   ],
   "source": [
    "train_images = train_images.squeeze()\n",
    "validation_images = validation_images.squeeze()\n",
    "print(train_images.shape)\n",
    "print(validation_images.shape)"
   ]
  },
  {
   "cell_type": "markdown",
   "metadata": {},
   "source": [
    "Let's take a look at some of the images:"
   ]
  },
  {
   "cell_type": "code",
   "execution_count": 63,
   "metadata": {},
   "outputs": [],
   "source": [
    "def plot_images(images, nrows=None, ncols=None):\n",
    "    if ncols is None:\n",
    "        ncols = min(len(images), 5)\n",
    "    if nrows is None:\n",
    "        nrows = math.ceil(len(images) / ncols)\n",
    "    fig, axes = plt.subplots(nrows=nrows, ncols=ncols, figsize=(10, 8))\n",
    "\n",
    "    for i, ax in enumerate(axes.flat):\n",
    "        image = images[i].squeeze()\n",
    "        ax.imshow(image, cmap='gray')\n",
    "        ax.axis('off')\n",
    "\n",
    "    plt.tight_layout()\n",
    "    plt.show()"
   ]
  },
  {
   "cell_type": "code",
   "execution_count": 64,
   "metadata": {},
   "outputs": [
    {
     "data": {
      "image/png": "[encoded data removed]",
      "text/plain": [
       "<Figure size 1000x800 with 10 Axes>"
      ]
     },
     "metadata": {},
     "output_type": "display_data"
    }
   ],
   "source": [
    "plot_images(train_images[:10,...])"
   ]
  },
  {
   "cell_type": "markdown",
   "metadata": {},
   "source": [
    "### Calculating Averages\n",
    "We want to put the images into 10 groups by their labels. There is a number of ways we could do this:\n",
    "1) Use argsort to sort the labels in ascending order, apply the permutation calculated while sorting to the images, count the number of occurences for each label (with torch.bincount) and split the sorted images accordingly.\n",
    "\n",
    "2) Generate boolean masks for each label and use them to select the correct images (this is probably the easiest one to implement).\n",
    "\n",
    "3) Get the indices of all labels with value $i$, then use these indices with array indexing to get the corresponding images.\n",
    "\n",
    "Choose a method, implement it and use it to get a list of tensors, where the 0th element of the list are the images with label 0 and so on (Could we also stack these tensors to a new tensor with additional dimension 10? If not, why so?)"
   ]
  },
  {
   "cell_type": "code",
   "execution_count": 65,
   "metadata": {},
   "outputs": [],
   "source": [
    "split_train_images = []\n",
    "\n",
    "##########################################################################\n",
    "# TODO: Group the images by their label using one of the methods above.  #\n",
    "##########################################################################\n",
    "\n",
    "labels = torch.unique(train_labels, sorted=True)\n",
    "split_train_images = [train_images[train_labels == l] for l in labels]\n",
    "\n",
    "##########################################################################\n",
    "#               END OF YOUR CODE                                         #\n",
    "##########################################################################\n",
    "\n",
    "assert all([len(a) == l for a,l in zip(split_train_images, [5923, 6742, 5958, 6131, 5842, 5421, 5918, 6265, 5851, 5949])])"
   ]
  },
  {
   "cell_type": "markdown",
   "metadata": {},
   "source": [
    "If your implementation is correct, the image rows should show 0, 1 and 2 accordingly:"
   ]
  },
  {
   "cell_type": "code",
   "execution_count": 66,
   "metadata": {},
   "outputs": [
    {
     "data": {
      "image/png": "[encoded data removed]",
      "text/plain": [
       "<Figure size 1000x800 with 5 Axes>"
      ]
     },
     "metadata": {},
     "output_type": "display_data"
    },
    {
     "data": {
      "image/png": "[encoded data removed]",
      "text/plain": [
       "<Figure size 1000x800 with 5 Axes>"
      ]
     },
     "metadata": {},
     "output_type": "display_data"
    },
    {
     "data": {
      "image/png": "[encoded data removed]",
      "text/plain": [
       "<Figure size 1000x800 with 5 Axes>"
      ]
     },
     "metadata": {},
     "output_type": "display_data"
    }
   ],
   "source": [
    "for i in range(3):\n",
    "    plot_images(split_train_images[i][:5])"
   ]
  },
  {
   "cell_type": "code",
   "execution_count": 67,
   "metadata": {},
   "outputs": [
    {
     "name": "stderr",
     "output_type": "stream",
     "text": [
      "/tmp/ipykernel_4075/131276999.py:2: FutureWarning: You are using `torch.load` with `weights_only=False` (the current default value), which uses the default pickle module implicitly. It is possible to construct malicious pickle data which will execute arbitrary code during unpickling (See https://github.com/pytorch/pytorch/blob/main/SECURITY.md#untrusted-models for more details). In a future release, the default value for `weights_only` will be flipped to `True`. This limits the functions that could be executed during unpickling. Arbitrary objects will no longer be allowed to be loaded via this mode unless they are explicitly allowlisted by the user via `torch.serialization.add_safe_globals`. We recommend you start setting `weights_only=True` for any use case where you don't have full control of the loaded file. Please open an issue on GitHub for any issues related to this experimental feature.\n",
      "  expected_result = torch.load(f'{control_folder}/mnist_mean_images.pt')\n"
     ]
    }
   ],
   "source": [
    "mean_images = None\n",
    "expected_result = torch.load(f'{control_folder}/mnist_mean_images.pt')\n",
    "\n",
    "##########################################################################\n",
    "# TODO: Calculate the mean of each image group in the split train images.#\n",
    "#       Stack the mean images with torch.stack, so that the              #\n",
    "#       resulting tensor has shape (10, 28, 28).                         #\n",
    "##########################################################################\n",
    "\n",
    "mean_images = [group.mean(dim=0) for group in split_train_images]\n",
    "mean_images = torch.stack(mean_images, dim=0)\n",
    "\n",
    "##########################################################################\n",
    "#               END OF YOUR CODE                                         #\n",
    "##########################################################################\n",
    "\n",
    "assert torch.allclose(expected_result, mean_images)"
   ]
  },
  {
   "cell_type": "markdown",
   "metadata": {},
   "source": []
  },
  {
   "cell_type": "markdown",
   "metadata": {},
   "source": [
    "Let's take a look at the mean images. They should all be blurry versions of the numbers they represent."
   ]
  },
  {
   "cell_type": "code",
   "execution_count": 68,
   "metadata": {},
   "outputs": [
    {
     "data": {
      "image/png": "[encoded data removed]",
      "text/plain": [
       "<Figure size 1000x800 with 10 Axes>"
      ]
     },
     "metadata": {},
     "output_type": "display_data"
    }
   ],
   "source": [
    "plot_images(mean_images)"
   ]
  },
  {
   "cell_type": "markdown",
   "metadata": {},
   "source": [
    "We will now use these templates on the validation images and calculate their agreement. In this case, agreement simply means multiplying every pixel in the templates against every pixel from the validation image, then summing them up.\n",
    "To make sure this is a fair metric, we will first normalize the mean_images, so that they have mean 0 and std 1 individually."
   ]
  },
  {
   "cell_type": "code",
   "execution_count": 69,
   "metadata": {},
   "outputs": [
    {
     "name": "stderr",
     "output_type": "stream",
     "text": [
      "/tmp/ipykernel_4075/1529127359.py:2: FutureWarning: You are using `torch.load` with `weights_only=False` (the current default value), which uses the default pickle module implicitly. It is possible to construct malicious pickle data which will execute arbitrary code during unpickling (See https://github.com/pytorch/pytorch/blob/main/SECURITY.md#untrusted-models for more details). In a future release, the default value for `weights_only` will be flipped to `True`. This limits the functions that could be executed during unpickling. Arbitrary objects will no longer be allowed to be loaded via this mode unless they are explicitly allowlisted by the user via `torch.serialization.add_safe_globals`. We recommend you start setting `weights_only=True` for any use case where you don't have full control of the loaded file. Please open an issue on GitHub for any issues related to this experimental feature.\n",
      "  expected_result = torch.load(f'{control_folder}/mnist_normalized_templates.pt')\n"
     ]
    }
   ],
   "source": [
    "template_images = None\n",
    "expected_result = torch.load(f'{control_folder}/mnist_normalized_templates.pt')\n",
    "\n",
    "##########################################################################\n",
    "# TODO: Calculate mean and std for each mean_image individually.         #\n",
    "#  You can do this without a loop by choosing the dim argument           #\n",
    "#  from torch.mean(...) and torch.std(...) correctly.                    #\n",
    "#  Then, use the mean and  std to normalize the template images.         #\n",
    "#  keepdim might be helpful here (why?).                                 #\n",
    "##########################################################################\n",
    "mean_per_label = mean_images.mean(dim=(1,2), keepdim=True)\n",
    "std_per_label = mean_images.std(dim=(1,2), keepdim=True)\n",
    "\n",
    "# Keepdim so that we broadcast the mean/std to same shape as mean_images,\n",
    "# making it easier to do math against mean_images later without reshaping\n",
    "# things.\n",
    "\n",
    "template_images = (mean_images - mean_per_label) / std_per_label\n",
    "\n",
    "##########################################################################\n",
    "#               END OF YOUR CODE                                         #\n",
    "##########################################################################\n",
    "assert torch.allclose(template_images, expected_result)\n"
   ]
  },
  {
   "cell_type": "markdown",
   "metadata": {},
   "source": [
    "Now, let's calculate the agreement of the validation images with the templates."
   ]
  },
  {
   "cell_type": "code",
   "execution_count": 70,
   "metadata": {},
   "outputs": [
    {
     "name": "stdout",
     "output_type": "stream",
     "text": [
      "torch.Size([10000, 10])\n"
     ]
    },
    {
     "name": "stderr",
     "output_type": "stream",
     "text": [
      "/tmp/ipykernel_4075/2137438699.py:2: FutureWarning: You are using `torch.load` with `weights_only=False` (the current default value), which uses the default pickle module implicitly. It is possible to construct malicious pickle data which will execute arbitrary code during unpickling (See https://github.com/pytorch/pytorch/blob/main/SECURITY.md#untrusted-models for more details). In a future release, the default value for `weights_only` will be flipped to `True`. This limits the functions that could be executed during unpickling. Arbitrary objects will no longer be allowed to be loaded via this mode unless they are explicitly allowlisted by the user via `torch.serialization.add_safe_globals`. We recommend you start setting `weights_only=True` for any use case where you don't have full control of the loaded file. Please open an issue on GitHub for any issues related to this experimental feature.\n",
      "  expected_result = torch.load(f'{control_folder}/mnist_agreement.pt')\n"
     ]
    }
   ],
   "source": [
    "agreement = None\n",
    "expected_result = torch.load(f'{control_folder}/mnist_agreement.pt')\n",
    "\n",
    "##########################################################################\n",
    "# TODO: Calculate the agreement of the template_images with the          #\n",
    "#  validation_images as a dot-product. You can use torch.einsum          #\n",
    "#  to do this effectively in one line.                                   #\n",
    "#                                                                        #\n",
    "#  template_images has shape (10, 28, 28),                               #\n",
    "#  validation_images has shape (N_val, 28, 28) and                       #\n",
    "#  the output shape should be (N_val, 10).                               #\n",
    "##########################################################################\n",
    "\n",
    "agreement = torch.einsum(\"vij,tij->vt\", validation_images, template_images)\n",
    "\n",
    "##########################################################################\n",
    "#               END OF YOUR CODE                                         #\n",
    "##########################################################################\n",
    "\n",
    "print(agreement.shape)\n",
    "assert torch.allclose(agreement, expected_result)"
   ]
  },
  {
   "cell_type": "code",
   "execution_count": 71,
   "metadata": {},
   "outputs": [
    {
     "name": "stderr",
     "output_type": "stream",
     "text": [
      "/tmp/ipykernel_4075/2887894406.py:2: FutureWarning: You are using `torch.load` with `weights_only=False` (the current default value), which uses the default pickle module implicitly. It is possible to construct malicious pickle data which will execute arbitrary code during unpickling (See https://github.com/pytorch/pytorch/blob/main/SECURITY.md#untrusted-models for more details). In a future release, the default value for `weights_only` will be flipped to `True`. This limits the functions that could be executed during unpickling. Arbitrary objects will no longer be allowed to be loaded via this mode unless they are explicitly allowlisted by the user via `torch.serialization.add_safe_globals`. We recommend you start setting `weights_only=True` for any use case where you don't have full control of the loaded file. Please open an issue on GitHub for any issues related to this experimental feature.\n",
      "  expected_result = torch.load(f'{control_folder}/mnist_validation_guess.pt')\n"
     ]
    }
   ],
   "source": [
    "validation_guess = None\n",
    "expected_result = torch.load(f'{control_folder}/mnist_validation_guess.pt')\n",
    "\n",
    "##########################################################################\n",
    "# TODO: assign each validation image to the class label with             #\n",
    "#  the biggest score. You can use torch.argmax for this.                 #\n",
    "##########################################################################\n",
    "\n",
    "# Replace \"pass\" statement with your code\n",
    "validation_guess = torch.argmax(agreement, dim=1)\n",
    "\n",
    "##########################################################################\n",
    "#               END OF YOUR CODE                                         #\n",
    "##########################################################################\n",
    "\n",
    "assert torch.allclose(validation_guess, expected_result)"
   ]
  },
  {
   "cell_type": "markdown",
   "metadata": {},
   "source": [
    "Last, let's check how good our classification was. Calculate how many times our guess agreed with the label on average."
   ]
  },
  {
   "cell_type": "code",
   "execution_count": 72,
   "metadata": {},
   "outputs": [
    {
     "name": "stdout",
     "output_type": "stream",
     "text": [
      "tensor(0.8208)\n"
     ]
    }
   ],
   "source": [
    "accuracy = None\n",
    "##########################################################################\n",
    "# TODO: Compare our validation_guess with the validation_labels and      #\n",
    "#  calculate how many times they were equal on average.                  #\n",
    "##########################################################################\n",
    "\n",
    "# Replace \"pass\" statement with your code\n",
    "accuracy = (validation_guess == validation_labels).sum() / len(validation_labels)\n",
    "\n",
    "##########################################################################\n",
    "#               END OF YOUR CODE                                         #\n",
    "##########################################################################\n",
    "print(accuracy)\n"
   ]
  },
  {
   "cell_type": "markdown",
   "metadata": {},
   "source": [
    "That's an accuracy above 80% and quite a strong baseline to beat. Our method of calculating average images and using them as filters works really well for this use-case. This is in part because the MNIST-Dataset entries are size-normalized and centered, which makes them a good target for this approach.\n",
    "\n"
   ]
  },
  {
   "cell_type": "markdown",
   "metadata": {},
   "source": [
    "### Conclusion\n",
    "\n",
    "This notebook provided a solid introduction to tensor manipulations in PyTorch. Remember, learning is an ongoing process, and even experienced developers continually expand their knowledge base. The skills you practiced here will be valuable as you encounter new challenges.\n",
    "\n",
    "Next, we'll explore the fundamentals of machine learning by building a feed-forward classifier for handwritten digits. We'll introduce the concept of feature hierarchies, where multiple layers learn to identify increasingly complex patterns. You'll also learn gradient descent – a cornerstone technique for optimizing machine learning models.\n",
    "\n",
    "Following that, we'll delve into attention mechanisms (you've already seen the basics with scaled dot-product attention!) and apply them to construct a key AlphaFold component: MultiHeadAttention.\n",
    "\n",
    "Finally, we'll start implementing AlphaFold's core architecture. Congratulations on making it so far! Stay tuned as we embark on this exciting journey."
   ]
  }
 ],
 "metadata": {
  "kernelspec": {
   "display_name": "venv",
   "language": "python",
   "name": "python3"
  },
  "language_info": {
   "codemirror_mode": {
    "name": "ipython",
    "version": 3
   },
   "file_extension": ".py",
   "mimetype": "text/x-python",
   "name": "python",
   "nbconvert_exporter": "python",
   "pygments_lexer": "ipython3",
   "version": "3.12.3"
  }
 },
 "nbformat": 4,
 "nbformat_minor": 2
}
